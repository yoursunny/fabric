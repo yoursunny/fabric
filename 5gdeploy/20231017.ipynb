{
 "cells": [
  {
   "cell_type": "markdown",
   "id": "954d2eda-0844-4b45-aa5a-3f6626e791fb",
   "metadata": {},
   "source": [
    "# 5gdeploy - 2-slice with 2 UPFs\n",
    "\n",
    "This notebook demonstrates how to install [5gdeploy](https://github.com/usnistgov/5gdeploy) on FABRIC nodes and run the `5gdeploy/scenario/20231017` scenario."
   ]
  },
  {
   "cell_type": "markdown",
   "id": "f327c692-423d-477b-b028-22864520261e",
   "metadata": {},
   "source": [
    "## Step 0: Import FABlib\n",
    "\n",
    "This notebook requires a project with these permissions: VM.NoLimit."
   ]
  },
  {
   "cell_type": "code",
   "execution_count": null,
   "id": "40097369-db78-4578-8e1f-184afa4e3301",
   "metadata": {},
   "outputs": [],
   "source": [
    "import json\n",
    "import random\n",
    "import shlex\n",
    "import tabulate\n",
    "from fabrictestbed_extensions.fablib.fablib import FablibManager as fablib_manager\n",
    "\n",
    "fablib = fablib_manager()\n",
    "fablib.show_config()"
   ]
  },
  {
   "cell_type": "markdown",
   "id": "a994afba-35d3-4f63-accc-d4f269fc1dae",
   "metadata": {},
   "source": [
    "## Step 1: Create Slice\n",
    "\n",
    "This step creates a slice with four nodes:\n",
    "\n",
    "* **cp** runs the control plane and RAN simulators.\n",
    "* **dn** runs Data Network containers and associated traffic generators.\n",
    "* **u1** runs UPF1.\n",
    "* **u4** runs UPF4.\n",
    "\n",
    "The **cp** node also serves the primary host that controls the experiment.\n",
    "\n",
    "The slice has three networks:\n",
    "\n",
    "* **FABNetv4** is for SSH control and VXLAN tunnels.\n",
    "* **N3** carries user traffic between gNBs and UPFs.\n",
    "* **N6** carries user traffic between UPFs and Data Networks."
   ]
  },
  {
   "cell_type": "code",
   "execution_count": null,
   "id": "fed1afd8-ef8a-492e-b2b7-750031a89475",
   "metadata": {},
   "outputs": [],
   "source": [
    "# modify these parameters if necessary\n",
    "\n",
    "# slice name\n",
    "SLICE_NAME = '5gdeploy-20231017'\n",
    "# FABRIC site name - IPv6 management address is OK, this notebook is compatible with DNS64\n",
    "SITE = 'INDI'\n",
    "\n",
    "# CPU cores reserved for operating system, minimum is 2\n",
    "CORES_OS = 2\n",
    "# CPU cores reserved for 5G network functions, minimum is 6\n",
    "CORES_NF = 6\n",
    "# CPU cores reserved for traffic generators, minimum is 4\n",
    "CORES_TG = 8\n",
    "\n",
    "# no need to change anything below\n",
    "assert CORES_OS >= 2\n",
    "assert CORES_NF >= 6\n",
    "assert CORES_TG >= 4\n",
    "cpuset_os = f'0-{CORES_OS-1}'\n",
    "cpuset_nf = f'{CORES_OS}-{CORES_OS+CORES_NF-1}'\n",
    "cpuset_tg = f'{CORES_OS+CORES_NF}-{CORES_OS+CORES_NF+CORES_TG-1}'"
   ]
  },
  {
   "cell_type": "code",
   "execution_count": null,
   "id": "e4082d01-463a-461d-b908-8e677942243c",
   "metadata": {},
   "outputs": [],
   "source": [
    "# create new slice\n",
    "slice = fablib.new_slice(name=SLICE_NAME)\n",
    "\n",
    "# define nodes\n",
    "kwargs = {'site':SITE,'ram':16,'disk':100,'image':'docker_ubuntu_24'}\n",
    "node_cp = slice.add_node(name='cp', **kwargs, cores=CORES_OS+CORES_NF+CORES_TG)\n",
    "node_dn = slice.add_node(name='dn', **kwargs, cores=CORES_OS+CORES_NF+CORES_TG)\n",
    "node_u1 = slice.add_node(name='u1', **kwargs, cores=CORES_OS+CORES_NF)\n",
    "node_u4 = slice.add_node(name='u4', **kwargs, cores=CORES_OS+CORES_NF)\n",
    "\n",
    "# define control network\n",
    "node_cp.add_fabnet()\n",
    "node_dn.add_fabnet()\n",
    "node_u1.add_fabnet()\n",
    "node_u4.add_fabnet()\n",
    "\n",
    "# define N3 network\n",
    "intfs_n3 = []\n",
    "intfs_n3 += node_cp.add_component(model='NIC_Basic', name='n3g0').get_interfaces()\n",
    "intfs_n3 += node_cp.add_component(model='NIC_Basic', name='n3g1').get_interfaces()\n",
    "intfs_n3 += node_u1.add_component(model='NIC_Basic', name='n3u1').get_interfaces()\n",
    "intfs_n3 += node_u4.add_component(model='NIC_Basic', name='n3u4').get_interfaces()\n",
    "net_n3 = slice.add_l2network(name='N3', interfaces=intfs_n3)\n",
    "\n",
    "# define N6 network\n",
    "intfs_n6 = []\n",
    "intfs_n6 += node_dn.add_component(model='NIC_Basic', name='n6d0').get_interfaces()\n",
    "intfs_n6 += node_dn.add_component(model='NIC_Basic', name='n6d1').get_interfaces()\n",
    "intfs_n6 += node_dn.add_component(model='NIC_Basic', name='n6d2').get_interfaces()\n",
    "intfs_n6 += node_u1.add_component(model='NIC_Basic', name='n6u1').get_interfaces()\n",
    "intfs_n6 += node_u4.add_component(model='NIC_Basic', name='n6u4').get_interfaces()\n",
    "net_n6 = slice.add_l2network(name='N6', interfaces=intfs_n6)\n",
    "\n",
    "# submit slice request\n",
    "slice.submit()"
   ]
  },
  {
   "cell_type": "markdown",
   "id": "dc7b1ce7-0c0e-49d4-91e6-38e7e723c75f",
   "metadata": {},
   "source": [
    "## Step 2: Install Dependencies\n",
    "\n",
    "This step performs initial configuration on every node:\n",
    "\n",
    "1. Install Node.js and other dependencies.\n",
    "2. Configure CPU isolation in systemd.\n",
    "3. Reboot the node."
   ]
  },
  {
   "cell_type": "code",
   "execution_count": null,
   "id": "71fbc97e-7bc0-4f29-a464-24cf36799b85",
   "metadata": {},
   "outputs": [],
   "source": [
    "# retrieve the slice\n",
    "slice = fablib.get_slice(name=SLICE_NAME)\n",
    "\n",
    "# perform initial configuration and install dependencies, then reboot\n",
    "execute_threads = {}\n",
    "for node in slice.get_nodes():\n",
    "    execute_threads[node] = node.execute_thread(f'''\n",
    "        sudo hostnamectl set-hostname {node.get_name()}\n",
    "        echo 'set enable-bracketed-paste off' | sudo tee -a /etc/inputrc\n",
    "        curl -fsLS https://deb.nodesource.com/gpgkey/nodesource-repo.gpg.key | sudo gpg --dearmor -o /etc/apt/keyrings/nodesource.gpg\n",
    "        echo \"deb [signed-by=/etc/apt/keyrings/nodesource.gpg] https://deb.nodesource.com/node_22.x nodistro main\" | sudo tee /etc/apt/sources.list.d/nodesource.list\n",
    "        sudo apt update\n",
    "        sudo DEBIAN_FRONTEND=noninteractive apt full-upgrade -y\n",
    "        sudo DEBIAN_FRONTEND=noninteractive apt purge -y nano\n",
    "        echo 'wireshark-common wireshark-common/install-setuid boolean true' | sudo debconf-set-selections\n",
    "        sudo DEBIAN_FRONTEND=noninteractive apt install -y clang-format-15 httpie linux-generic moreutils nodejs python3-libconf wireshark-common\n",
    "        sudo adduser $(id -un) wireshark\n",
    "        sudo snap install yq\n",
    "        echo | sudo mkdir -p /etc/systemd/system/init.scope.d /etc/systemd/system/service.d /etc/systemd/system/user.slice.d /etc/systemd/system/docker-.scope.d\n",
    "        echo -e \"[Scope]\\nAllowedCPUs={cpuset_os}\" | sudo tee /etc/systemd/system/init.scope.d/cpuset.conf\n",
    "        echo -e \"[Service]\\nAllowedCPUs={cpuset_os}\" | sudo tee /etc/systemd/system/service.d/cpuset.conf\n",
    "        echo -e \"[Slice]\\nAllowedCPUs={cpuset_os}\" | sudo tee /etc/systemd/system/user.slice.d/cpuset.conf\n",
    "        echo -e \"[Scope]\\nAllowedCPUs={CORES_OS}-{node.get_cores()-1}\" | sudo tee /etc/systemd/system/docker-.scope.d/cpuset.conf\n",
    "        sudo reboot\n",
    "    ''')\n",
    "for thread in execute_threads.values():\n",
    "    thread.result()\n",
    "slice.wait_ssh(progress=True)\n",
    "slice.post_boot_config()"
   ]
  },
  {
   "cell_type": "markdown",
   "id": "fc21cf3f-3f89-4a08-a333-24399d75b566",
   "metadata": {},
   "source": [
    "## Step 3: Install 5gdeploy\n",
    "\n",
    "This step downloads 5gdeploy on the primary host and invokes its install script."
   ]
  },
  {
   "cell_type": "code",
   "execution_count": null,
   "id": "59491832-f490-4169-8afd-b830d8739dc4",
   "metadata": {},
   "outputs": [],
   "source": [
    "# retrieve primary host node\n",
    "slice = fablib.get_slice(name=SLICE_NAME)\n",
    "node_cp = slice.get_node(name='cp')"
   ]
  },
  {
   "cell_type": "code",
   "execution_count": null,
   "id": "d837798f-993e-4d8a-84ba-c723ea091975",
   "metadata": {},
   "outputs": [],
   "source": [
    "# clone 5gdeploy repository\n",
    "stdout, stderr = node_cp.execute('''\n",
    "    rm -rf ~/5gdeploy\n",
    "    git clone https://github.com/usnistgov/5gdeploy.git\n",
    "''')"
   ]
  },
  {
   "cell_type": "code",
   "execution_count": null,
   "id": "2fae5811-fc99-4b18-bf02-c94a559acfdd",
   "metadata": {},
   "outputs": [],
   "source": [
    "# run install script\n",
    "stdout, stderr = node_cp.execute('~/5gdeploy/install.sh')"
   ]
  },
  {
   "cell_type": "markdown",
   "id": "f6145e0c-5add-4281-8fdb-27ea4c9d9c23",
   "metadata": {},
   "source": [
    "## Step 4: Prepare for Multi-Host Deployment\n",
    "\n",
    "This step gathers information about network interfaces, and then creates an SSH key for the primary host to control secondary hosts."
   ]
  },
  {
   "cell_type": "code",
   "execution_count": null,
   "id": "f9b4243c-a38b-4bd0-abde-4fc8bbf4ee20",
   "metadata": {},
   "outputs": [],
   "source": [
    "# retrieve slice and nodes\n",
    "slice = fablib.get_slice(name=SLICE_NAME)\n",
    "node_cp = slice.get_node(name='cp')\n",
    "node_dn = slice.get_node(name='dn')\n",
    "node_u1 = slice.get_node(name='u1')\n",
    "node_u4 = slice.get_node(name='u4')\n",
    "\n",
    "# retrieve control IP addresses\n",
    "net_fabnet = f'FABNET_IPv4_{SITE}'\n",
    "ctrl_cp = node_cp.get_interface(network_name=net_fabnet).get_ip_addr()\n",
    "ctrl_dn = node_dn.get_interface(network_name=net_fabnet).get_ip_addr()\n",
    "ctrl_u1 = node_u1.get_interface(network_name=net_fabnet).get_ip_addr()\n",
    "ctrl_u4 = node_u4.get_interface(network_name=net_fabnet).get_ip_addr()\n",
    "\n",
    "# retrieve N3 MAC addresses\n",
    "n3_g0 = node_cp.get_component('n3g0').get_interfaces()[0].get_mac()\n",
    "n3_g1 = node_cp.get_component('n3g1').get_interfaces()[0].get_mac()\n",
    "n3_u1 = node_u1.get_component('n3u1').get_interfaces()[0].get_mac()\n",
    "n3_u4 = node_u4.get_component('n3u4').get_interfaces()[0].get_mac()\n",
    "n3_2gnb = ','.join([n3_g0, n3_g1])\n",
    "\n",
    "# retrieve N6 MAC addresses\n",
    "n6_d0 = node_dn.get_component('n6d0').get_interfaces()[0].get_mac()\n",
    "n6_d1 = node_dn.get_component('n6d1').get_interfaces()[0].get_mac()\n",
    "n6_d2 = node_dn.get_component('n6d2').get_interfaces()[0].get_mac()\n",
    "n6_u1 = node_u1.get_component('n6u1').get_interfaces()[0].get_mac()\n",
    "n6_u4 = node_u4.get_component('n6u4').get_interfaces()[0].get_mac()\n",
    "n6_3dn = ','.join([n6_d0, n6_d1, n6_d2])\n",
    "\n",
    "tabulate.tabulate([\n",
    "    ['cp', node_cp.get_management_ip(), ctrl_cp, n3_2gnb, ''],\n",
    "    ['dn', node_dn.get_management_ip(), ctrl_dn, '', n6_3dn],\n",
    "    ['u1', node_u1.get_management_ip(), ctrl_u1, n3_u1, n6_u1],\n",
    "    ['u4', node_u4.get_management_ip(), ctrl_u4, n3_u4, n6_u4],\n",
    "], headers=['node', 'management', 'ctrl', 'N3', 'N6'], tablefmt='html')"
   ]
  },
  {
   "cell_type": "code",
   "execution_count": null,
   "id": "b0877dd1-513e-4e06-bdb2-a116d60e59e3",
   "metadata": {},
   "outputs": [],
   "source": [
    "# create SSH key pair on primary host\n",
    "stdout, stderr = node_cp.execute('''\n",
    "    rm -f ~/.ssh/id_ed25519 ~/.ssh/id_ed25519.pub\n",
    "    ssh-keygen -f ~/.ssh/id_ed25519 -N '' -C 5gdeploy -t ed25519\n",
    "''')\n",
    "pubkey, stderr = node_cp.execute('cat ~/.ssh/id_ed25519.pub')\n",
    "\n",
    "# grant permission on secondary hosts\n",
    "for node in slice.get_nodes():\n",
    "    stdout, stderr = node.execute(f'''\n",
    "        sed -i '/^ssh-ed25519.*5gdeploy$/ d' ~/.ssh/authorized_keys\n",
    "        echo {shlex.quote(pubkey)} >>~/.ssh/authorized_keys\n",
    "    ''')\n",
    "\n",
    "# save host keys\n",
    "stdout, stderr = node_cp.execute(f'''\n",
    "    rm -f ~/.ssh/known_hosts\n",
    "    ssh-keyscan {ctrl_cp} {ctrl_dn} {ctrl_u1} {ctrl_u4} | tee ~/.ssh/known_hosts\n",
    "''')"
   ]
  },
  {
   "cell_type": "markdown",
   "id": "6a2bcfcb-3296-4607-a744-68df77e902c1",
   "metadata": {},
   "source": [
    "## Step 5: Generate Scenario\n",
    "\n",
    "This step invokes `5gdeploy/scenario/generate.sh` script to generate a predefined scenario template into netdef.json and then Docker Compose context.\n",
    "\n",
    "Modify the topology parameters first and run the parameters block.\n",
    "\n",
    "After that, there are multiple blocks provided for different 5G core and RAN software.\n",
    "You should choose one option and run only that block.\n",
    "You can switch between options by running another block, which would automatically stop the running scenario."
   ]
  },
  {
   "cell_type": "code",
   "execution_count": null,
   "id": "c8fa3e41-6825-44f2-b126-6a652f65afc0",
   "metadata": {},
   "outputs": [],
   "source": [
    "# assign topology parameters\n",
    "N_GNBS = 2\n",
    "N_PHONES = 1\n",
    "N_VEHICLES = 1\n",
    "\n",
    "# no need to change anything below\n",
    "assert N_GNBS <= 2\n",
    "nUes = N_PHONES + N_VEHICLES\n",
    "nPduSessions = N_PHONES + 2 * N_VEHICLES"
   ]
  },
  {
   "cell_type": "markdown",
   "id": "e37c13f3-a4ee-4ed9-bb5d-32ce304d6d2c",
   "metadata": {},
   "source": [
    "### free5GC + PacketRusher\n",
    "\n",
    "PacketRusher supports exactly one UE per gNB.\n",
    "Therefore, gNB quantity must equal the sum of phone quantity and vehicle quantity."
   ]
  },
  {
   "cell_type": "code",
   "execution_count": null,
   "id": "f4cbb650-217a-4ce1-b125-106de06e3a32",
   "metadata": {},
   "outputs": [],
   "source": [
    "IMPLS = ('free5gc', 'free5gc', 'packetrusher')\n",
    "assert N_GNBS == nUes\n",
    "nPduSessions = nUes\n",
    "\n",
    "# prepare generate.sh command line\n",
    "generate_cmd = f'''\n",
    "./generate.sh 20231017\n",
    "  +gnbs={N_GNBS} +phones={N_PHONES} +vehicles={N_VEHICLES}\n",
    "  --cp=free5gc --up=free5gc --ran=packetrusher\n",
    "  --dn-workers=0\n",
    "  --bridge='mgmt | vx | {ctrl_cp},{ctrl_dn}'\n",
    "  --bridge='n4 | vx | {ctrl_cp},{ctrl_u1},{ctrl_u4}'\n",
    "  --bridge='n3 | eth | gnb*={n3_2gnb} upf1={n3_u1} upf4={n3_u4}'\n",
    "  --bridge='n6 | eth | dn_*={n6_3dn} upf1={n6_u1} upf4={n6_u4}'\n",
    "  --place='dn_*@{ctrl_dn}({cpuset_nf})'\n",
    "  --place='upf1@{ctrl_u1}({cpuset_nf})'\n",
    "  --place='upf4@{ctrl_u4}({cpuset_nf})'\n",
    "  --place='*@({cpuset_nf})'\n",
    "'''\n",
    "print(generate_cmd)\n",
    "\n",
    "# invoke generate.sh\n",
    "stdout, stderr = node_cp.execute(f'''\n",
    "    cd ~/5gdeploy/scenario\n",
    "    {generate_cmd.replace(chr(10), ' ')}\n",
    "''')"
   ]
  },
  {
   "cell_type": "markdown",
   "id": "67e86061-e9f6-4cd1-941d-824a9012db0f",
   "metadata": {},
   "source": [
    "### Open5GS + eUPF + PacketRusher\n",
    "\n",
    "PacketRusher supports exactly one UE per gNB.\n",
    "Therefore, gNB quantity must equal the sum of phone quantity and vehicle quantity."
   ]
  },
  {
   "cell_type": "code",
   "execution_count": null,
   "id": "fd985d8b-6e9b-4cb2-8c2e-5a6c0fd3bc9e",
   "metadata": {},
   "outputs": [],
   "source": [
    "IMPLS = ('open5gs', 'eupf', 'packetrusher')\n",
    "assert N_GNBS == nUes\n",
    "nPduSessions = nUes\n",
    "\n",
    "# prepare generate.sh command line\n",
    "generate_cmd = f'''\n",
    "./generate.sh 20231017\n",
    "  +gnbs={N_GNBS} +phones={N_PHONES} +vehicles={N_VEHICLES}\n",
    "  --cp=open5gs --up=eupf --ran=packetrusher\n",
    "  --dn-workers=0\n",
    "  --bridge='mgmt | vx | {ctrl_cp},{ctrl_dn},{ctrl_u1},{ctrl_u4}'\n",
    "  --bridge='n4 | vx | {ctrl_cp},{ctrl_u1},{ctrl_u4}'\n",
    "  --bridge='n3 | eth | gnb*={n3_2gnb} upf1={n3_u1} upf4={n3_u4}'\n",
    "  --bridge='n6 | eth | dn_*={n6_3dn} upf1={n6_u1} upf4={n6_u4}'\n",
    "  --place='dn_*@{ctrl_dn}({cpuset_nf})'\n",
    "  --place='upf1@{ctrl_u1}({cpuset_nf})'\n",
    "  --place='upf4@{ctrl_u4}({cpuset_nf})'\n",
    "  --place='*@({cpuset_nf})'\n",
    "'''\n",
    "print(generate_cmd)\n",
    "\n",
    "# invoke generate.sh\n",
    "stdout, stderr = node_cp.execute(f'''\n",
    "    cd ~/5gdeploy/scenario\n",
    "    {generate_cmd.replace(chr(10), ' ')}\n",
    "''')"
   ]
  },
  {
   "cell_type": "markdown",
   "id": "913f9c3f-c2b3-4745-a403-6057abdd0a26",
   "metadata": {},
   "source": [
    "### Open5GS + UERANSIM\n",
    "\n",
    "UERANSIM is mainly intended for protocol verification.\n",
    "Its dataplane performance is very low.\n",
    "If you use traffic generators, please limit traffic volume to be no more than 10 Mbps."
   ]
  },
  {
   "cell_type": "code",
   "execution_count": null,
   "id": "fe6533ba-43f8-4ec7-8049-f105bb128e15",
   "metadata": {},
   "outputs": [],
   "source": [
    "IMPLS = ('open5gs', 'open5gs', 'ueransim')\n",
    "\n",
    "# prepare generate.sh command line\n",
    "generate_cmd = f'''\n",
    "./generate.sh 20231017\n",
    "  +gnbs={N_GNBS} +phones={N_PHONES} +vehicles={N_VEHICLES}\n",
    "  --cp=open5gs --up=open5gs --ran=ueransim\n",
    "  --dn-workers=0\n",
    "  --bridge='mgmt | vx | {ctrl_cp},{ctrl_dn}'\n",
    "  --bridge='n4 | vx | {ctrl_cp},{ctrl_u1},{ctrl_u4}'\n",
    "  --bridge='n3 | eth | gnb*={n3_2gnb} upf1={n3_u1} upf4={n3_u4}'\n",
    "  --bridge='n6 | eth | dn_*={n6_3dn} upf1={n6_u1} upf4={n6_u4}'\n",
    "  --place='dn_*@{ctrl_dn}({cpuset_nf})'\n",
    "  --place='upf1@{ctrl_u1}({cpuset_nf})'\n",
    "  --place='upf4@{ctrl_u4}({cpuset_nf})'\n",
    "  --place='*@({cpuset_nf})'\n",
    "'''\n",
    "print(generate_cmd)\n",
    "\n",
    "# invoke generate.sh\n",
    "stdout, stderr = node_cp.execute(f'''\n",
    "    cd ~/5gdeploy/scenario\n",
    "    {generate_cmd.replace(chr(10), ' ')}\n",
    "''')"
   ]
  },
  {
   "cell_type": "markdown",
   "id": "1971450d-4902-41be-947e-6aed1a4440ee",
   "metadata": {},
   "source": [
    "### free5GC + NDN-DPDK/eUPF + PacketRusher\n",
    "\n",
    "**UPF1** (serves `internet` Data Network) runs [NDN-DPDK](https://github.com/usnistgov/ndn-dpdk) forwarder along with `ndndpdk-upf` PFCP agent.\n",
    "This implementation supports both IPv4 and NDN traffic.\n",
    "\n",
    "**UPF4** (serves `vcam` and `vctl` Data Networks) runs eUPF.\n",
    "\n",
    "PacketRusher supports exactly one UE per gNB.\n",
    "Therefore, gNB quantity must equal the sum of phone quantity and vehicle quantity."
   ]
  },
  {
   "cell_type": "code",
   "execution_count": null,
   "id": "1bb6b049-cf30-4274-b03f-10e75538677e",
   "metadata": {},
   "outputs": [],
   "source": [
    "IMPLS = ('free5gc', 'ndndpdk+eupf', 'packetrusher')\n",
    "assert N_GNBS == nUes\n",
    "nPduSessions = nUes\n",
    "\n",
    "# pull NDN-DPDK Docker images and setup hugepages\n",
    "stdout, stderr = node_u1.execute(f'''\n",
    "    docker rm -f upf1 upfsvc1\n",
    "    if ! [[ -f /usr/local/bin/dpdk-hugepages.py ]]; then\n",
    "        docker pull ghcr.io/usnistgov/ndn-dpdk\n",
    "        docker tag ghcr.io/usnistgov/ndn-dpdk localhost/ndn-dpdk\n",
    "        docker run --rm localhost/ndn-dpdk sh -c 'tar -c /usr/local/bin/dpdk-*.py /usr/local/share/ndn-dpdk' | sudo tar -x -C /\n",
    "    fi\n",
    "    sudo sh -c 'while ! dpdk-hugepages.py --setup 4G; do sleep 1; done'\n",
    "    dpdk-hugepages.py --show\n",
    "''')\n",
    "\n",
    "# determine N3 and N6 Ethernet adapter PCI addresses\n",
    "n3PciAddr, stderr = node_u1.execute(f'''\n",
    "    IFNAME=$(ip -j link | jq -r --arg MAC {n3_u1.lower()} '.[] | select(.address==$MAC) | .ifname' | head -1)\n",
    "    basename $(readlink -f /sys/class/net/$IFNAME/device)\n",
    "''')\n",
    "n3PciAddr = n3PciAddr.strip()\n",
    "\n",
    "# prepare NDN-DPDK activation parameters\n",
    "assert CORES_NF >= 4\n",
    "upf1_activate = {\n",
    "    'eal': {\n",
    "        'lcoreMain': CORES_OS,\n",
    "    },\n",
    "    'lcoreAlloc': {\n",
    "        'RX': [CORES_OS+1],\n",
    "        'TX': [CORES_OS+2],\n",
    "        'FWD': [CORES_OS+3],\n",
    "    },\n",
    "    '5gdeploy-create-eth-port': f'--pci {n3PciAddr}'\n",
    "}\n",
    "\n",
    "# prepare generate.sh command line\n",
    "generate_cmd = f'''\n",
    "./generate.sh 20231017\n",
    "  +gnbs={N_GNBS} +phones={N_PHONES} +vehicles={N_VEHICLES}\n",
    "  --cp=free5gc --up=upf1=ndndpdk --up=eupf --ran=packetrusher\n",
    "  --ndndpdk-gtpip=true --ndndpdk-activate=$HOME/ndndpdk-activate\n",
    "  --dn-workers=0\n",
    "  --bridge='mgmt | vx | {ctrl_cp},{ctrl_dn},{ctrl_u1},{ctrl_u4}'\n",
    "  --bridge='n4 | vx | {ctrl_cp},{ctrl_u1},{ctrl_u4}'\n",
    "  --bridge='n3 | eth | gnb*={n3_2gnb} upf1={n3_u1} upf4={n3_u4}'\n",
    "  --bridge='n6 | eth | dn_*={n6_3dn} upf1={n6_u1} upf4={n6_u4}'\n",
    "  --place='dn_*@{ctrl_dn}({cpuset_nf})'\n",
    "  --place='upf1@{ctrl_u1}({CORES_OS})'\n",
    "  --place='upfsvc1@{ctrl_u1}'\n",
    "  --place='upf4@{ctrl_u4}({cpuset_nf})'\n",
    "  --place='*@({cpuset_nf})'\n",
    "'''\n",
    "print(generate_cmd)\n",
    "\n",
    "# save NDN-DPDK activation parameters and invoke generate.sh\n",
    "stdout, stderr = node_cp.execute(f'''\n",
    "    mkdir -p ~/ndndpdk-activate\n",
    "    echo {shlex.quote(json.dumps(upf1_activate, indent=2))} | tee ~/ndndpdk-activate/upf1.json\n",
    "    cd ~/5gdeploy/scenario\n",
    "    {generate_cmd.replace(chr(10), ' ')}\n",
    "''')\n"
   ]
  },
  {
   "cell_type": "markdown",
   "id": "813103ea-4798-4597-9a34-6e1f4cc7efea",
   "metadata": {},
   "source": [
    "## Step 6: Launch Scenario\n",
    "\n",
    "This step invokes `compose.sh` script to launch the scenario in Docker Compose, and then checks its status.\n",
    "You can run the `ps` and `list-pdu` subcommands repeatedly.\n",
    "Once the PDU sessions are established, you can proceed to the next step for traffic generators."
   ]
  },
  {
   "cell_type": "code",
   "execution_count": null,
   "id": "754d2179-8160-4308-a96a-48a4ddfeaf5f",
   "metadata": {},
   "outputs": [],
   "source": [
    "# show network function placement and cpuset\n",
    "stdout, stderr = node_cp.execute('''\n",
    "    cd ~/compose/20231017\n",
    "    ~/5gdeploy/compose/place-report.sh compose.yml\n",
    "''')"
   ]
  },
  {
   "cell_type": "code",
   "execution_count": null,
   "id": "cbf42664-3fb4-475d-a9d3-d1900978840c",
   "metadata": {},
   "outputs": [],
   "source": [
    "# launch the scenario\n",
    "stdout, stderr = node_cp.execute('~/compose/20231017/compose.sh up')"
   ]
  },
  {
   "cell_type": "code",
   "execution_count": null,
   "id": "d8722e05-78f2-4c45-a724-f3d5b71d97a8",
   "metadata": {},
   "outputs": [],
   "source": [
    "# check scenario status\n",
    "stdout, stderr = node_cp.execute('~/compose/20231017/compose.sh ps')"
   ]
  },
  {
   "cell_type": "code",
   "execution_count": null,
   "id": "f454ed33-2321-4c8e-89d4-a27f70968ea5",
   "metadata": {},
   "outputs": [],
   "source": [
    "# list PDU sessions\n",
    "stdout, stderr = node_cp.execute('~/compose/20231017/compose.sh list-pdu')"
   ]
  },
  {
   "cell_type": "markdown",
   "id": "d9612199-dd15-40c2-b358-5899592fb739",
   "metadata": {},
   "source": [
    "## Step 7: Run Traffic Generators\n",
    "\n",
    "This step runs traffic generators between UEs and Data Networks.\n",
    "\n",
    "There are multiple blocks provided for different traffic generators.\n",
    "You can run any of them in any order.\n",
    "\n",
    "Traffic generators using `tgcs` subcommand will deposit detailed results in `~/compose/20231017/tg` directory.\n",
    "You can SSH into the primary host and view these files."
   ]
  },
  {
   "cell_type": "markdown",
   "id": "555d2e26-9a2b-451b-98ad-a187584cb02e",
   "metadata": {},
   "source": [
    "### nmap\n",
    "\n",
    "Nmap scans the UE subnet to find which IP addresses are online.\n",
    "You can use this command to confirm PDU session reachability."
   ]
  },
  {
   "cell_type": "code",
   "execution_count": null,
   "id": "c84b5d27-ec63-4547-a484-eb78100fec5b",
   "metadata": {},
   "outputs": [],
   "source": [
    "stdout, stderr = node_cp.execute('~/compose/20231017/compose.sh nmap')"
   ]
  },
  {
   "cell_type": "markdown",
   "id": "04e5b6e8-a070-4369-82d6-a00359cab54d",
   "metadata": {},
   "source": [
    "### iPerf2\n",
    "\n",
    "iPerf2 performs a network throughput and latency benchmark.\n",
    "You can adjust the parameters near the top of this code block."
   ]
  },
  {
   "cell_type": "code",
   "execution_count": null,
   "id": "cec4fcab-3b48-4fae-9f0f-3d4316c37a60",
   "metadata": {},
   "outputs": [],
   "source": [
    "# traffic direction, either 'UL' or 'DL'\n",
    "DIR = 'DL'\n",
    "# traffic duration in seconds\n",
    "DURATION = 30\n",
    "# per-flow bandwidth in Mbps\n",
    "BANDWIDTH = 400\n",
    "# number of flows\n",
    "FLOWS = 2\n",
    "\n",
    "# no need to change anything below\n",
    "assert DIR in ['UL', 'DL']\n",
    "assert DURATION >= 10\n",
    "assert BANDWIDTH >= 1\n",
    "assert FLOWS >= 1\n",
    "assert CORES_TG >= FLOWS * nPduSessions\n",
    "\n",
    "# prepare tgcs command line\n",
    "tgcs_cmd = f'''\n",
    "./compose.sh tgcs\n",
    "  --place='*@({cpuset_tg})' --place='*@{ctrl_dn}({cpuset_tg})' --wait-timeout={60+DURATION}\n",
    "  --iperf2='* | *\n",
    "    | #cpus={FLOWS} {'#R' if DIR=='DL' else ''} -t {DURATION} -i 0.1 -u -l 1250 -b {BANDWIDTH}m --trip-times -P {FLOWS}\n",
    "    | #cpus={FLOWS} -u -l 1250 -i 0.1'\n",
    "'''\n",
    "print(tgcs_cmd)\n",
    "\n",
    "# invoke traffic generator\n",
    "stdout, stderr = node_cp.execute(f'''\n",
    "    cd ~/compose/20231017\n",
    "    {tgcs_cmd.replace(chr(10), ' ')}\n",
    "    ./tg.sh upload\n",
    "    ./tg.sh\n",
    "''')"
   ]
  },
  {
   "cell_type": "markdown",
   "id": "accb50f5-79b5-4352-b098-c8f75a4d01cd",
   "metadata": {},
   "source": [
    "### NFD + ndnping\n",
    "\n",
    "This block deploys NDN Forwarding Daemon (NFD) on each *phone* over the `internet` DNN, and then runs ndnping to verify reachability.\n",
    "You can adjust the parameters near the top of this code block.\n",
    "\n",
    "If you are using NDN-DPDK as UPF1, run the blocks marked NDN-DPDK UPF only.\n",
    "Otherwise, skip these blocks.\n",
    "If you defined two *phones* in the topology (`N_GNBS, N_PHONES, N_VEHICLES = 2, 2, 0`), you would see Interest aggregation benefits through the counters."
   ]
  },
  {
   "cell_type": "code",
   "execution_count": null,
   "id": "4725df1e-14bf-4e3d-a2c6-cc72fdc396dd",
   "metadata": {},
   "outputs": [],
   "source": [
    "# interval in milliseconds\n",
    "INTERVAL = 100\n",
    "# starting sequence number\n",
    "STARTSEQ = random.randint(0,0x100000000)\n",
    "# packet quantity\n",
    "PKTCOUNT = 1000\n",
    "# reply payload length\n",
    "PAYLOADLEN = 1000\n",
    "\n",
    "# no need to change anything below\n",
    "assert INTERVAL >= 10\n",
    "assert PKTCOUNT >= 10\n",
    "assert PAYLOADLEN >= 0 and PAYLOADLEN <= 8000"
   ]
  },
  {
   "cell_type": "code",
   "execution_count": null,
   "id": "a180f129-9af6-4e99-b602-6d0349ae6e5d",
   "metadata": {},
   "outputs": [],
   "source": [
    "# run this block only if UPF1 is NDN-DPDK\n",
    "assert 'ndndpdk' in IMPLS[1]\n",
    "\n",
    "# create face toward producer in NDN-DPDK forwarder\n",
    "stdout, stderr = node_u1.execute(f'''\n",
    "    exec 5>&1\n",
    "    if [[ -z $(docker exec upf1 ndndpdk-ctrl list-ethdev |\n",
    "               jq -c --arg MAC {n6_u1.lower()} 'select(.macAddr==$MAC)' |\n",
    "               tee /dev/fd/5) ]]; then\n",
    "        docker exec upf1 ndndpdk-ctrl create-eth-port --netif n6 --xdp\n",
    "    fi\n",
    "    FACEID=$(docker exec upf1 ndndpdk-ctrl list-faces |\n",
    "             jq -c --arg MAC {n6_d0.lower()} 'select(.locator.remote==$MAC)' |\n",
    "             tee /dev/fd/5 | jq -r '.id')\n",
    "    if [[ -z $FACEID ]]; then\n",
    "        FACEID=$(docker exec upf1 ndndpdk-ctrl create-ether-face --local {n6_u1.lower()} --remote {n6_d0.lower()} |\n",
    "                 tee /dev/fd/5 | jq -r '.id')\n",
    "    fi\n",
    "    docker exec upf1 ndndpdk-ctrl insert-fib --name / --nh $FACEID\n",
    "''')\n",
    "\n",
    "# save NDN-DPDK face counters before traffic\n",
    "stdout, stderr = node_u1.execute('docker exec upf1 ndndpdk-ctrl list-faces -cnt')\n",
    "faceCounters0 = dict([ (x['id'], x) for x in [ json.loads(line) for line in stdout.strip().split('\\n') ] ])"
   ]
  },
  {
   "cell_type": "code",
   "execution_count": null,
   "id": "fd599afa-7386-4dbe-84ba-c782c34d5b09",
   "metadata": {},
   "outputs": [],
   "source": [
    "# always run this block\n",
    "\n",
    "# prepare tgcs command line\n",
    "tgcs_cmd = f'''\n",
    "./compose.sh tgcs\n",
    "  --place='*@({cpuset_tg})' --place='*@{ctrl_dn}({cpuset_tg})' --wait-timeout={60+int(INTERVAL*PKTCOUNT/1000)}\n",
    "  --ndnping='internet | * | -i {INTERVAL} -n {STARTSEQ} -c {PKTCOUNT} | -s {PAYLOADLEN}'\n",
    "'''\n",
    "print(tgcs_cmd)\n",
    "\n",
    "# launch NFD and invoke traffic generator\n",
    "stdout, stderr = node_cp.execute(f'''\n",
    "    cd ~/compose/20231017\n",
    "    ./compose.sh nfd --dnn=internet\n",
    "    {tgcs_cmd.replace(chr(10), ' ')}\n",
    "    ./tg.sh\n",
    "''')"
   ]
  },
  {
   "cell_type": "code",
   "execution_count": null,
   "id": "6733eab1-60ec-4f47-af83-ede96127ab4f",
   "metadata": {},
   "outputs": [],
   "source": [
    "# run this block only if UPF1 is NDN-DPDK\n",
    "assert 'ndndpdk' in IMPLS[1]\n",
    "\n",
    "# save NDN-DPDK face counters after traffic\n",
    "stdout, stderr = node_u1.execute('docker exec upf1 ndndpdk-ctrl list-faces -cnt')\n",
    "faceCounters1 = dict([ (x['id'], x) for x in [ json.loads(line) for line in stdout.strip().split('\\n') ] ])\n",
    "\n",
    "# show traffic counter increments\n",
    "METRICS = ['rxInterests', 'rxData', 'rxNacks', 'txInterests', 'txData', 'txNacks']\n",
    "rows = []\n",
    "for id, face1 in faceCounters1.items():\n",
    "    try:\n",
    "        face0 = faceCounters0[id]\n",
    "    except:\n",
    "        continue\n",
    "    loc, cnt0, cnt1 = face1['locator'], face0['counters'], face1['counters']\n",
    "    row = [id, loc['scheme'], loc.get('innerRemoteIP')]\n",
    "    for metric in METRICS:\n",
    "        row.append(cnt1[metric] - cnt0[metric])\n",
    "    rows.append(row)\n",
    "tabulate.tabulate(rows, headers=['id', 'scheme', 'UE IP'] + METRICS, tablefmt='html')"
   ]
  },
  {
   "cell_type": "markdown",
   "id": "160d5aed-9cbe-4e80-b27a-8e664148f5bf",
   "metadata": {},
   "source": [
    "## Step 8: Cleanup\n",
    "\n",
    "You can stop the scenario and later re-launch it.\n",
    "Once you are done for the day, please delete the slice, which would destroy the virtual machines and release FABRIC resources."
   ]
  },
  {
   "cell_type": "code",
   "execution_count": null,
   "id": "16f4a8e4-a17e-49db-aaff-f3e7074076ce",
   "metadata": {},
   "outputs": [],
   "source": [
    "# stop the scenario\n",
    "stdout, stderr = node_cp.execute('~/compose/20231017/compose.sh down')"
   ]
  },
  {
   "cell_type": "code",
   "execution_count": null,
   "id": "f43d03ac-9849-491b-9959-1df4daa93c33",
   "metadata": {},
   "outputs": [],
   "source": [
    "# delete the slice\n",
    "slice = fablib.get_slice(SLICE_NAME)\n",
    "slice.delete()"
   ]
  }
 ],
 "metadata": {
  "kernelspec": {
   "display_name": "Python 3 (ipykernel)",
   "language": "python",
   "name": "python3"
  },
  "language_info": {
   "codemirror_mode": {
    "name": "ipython",
    "version": 3
   },
   "file_extension": ".py",
   "mimetype": "text/x-python",
   "name": "python",
   "nbconvert_exporter": "python",
   "pygments_lexer": "ipython3",
   "version": "3.11.9"
  }
 },
 "nbformat": 4,
 "nbformat_minor": 5
}
